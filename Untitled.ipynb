{
 "cells": [
  {
   "cell_type": "code",
   "execution_count": null,
   "id": "8abf6c71-399e-45df-8080-645f76d8a287",
   "metadata": {},
   "outputs": [],
   "source": [
    "!pip install blynklib\n",
    "!pip install blynk-library-python"
   ]
  },
  {
   "cell_type": "code",
   "execution_count": null,
   "id": "9e5af664-bb90-484b-ae87-640b1209a061",
   "metadata": {},
   "outputs": [],
   "source": [
    "import BlynkLib"
   ]
  },
  {
   "cell_type": "code",
   "execution_count": null,
   "id": "2be669e4-2210-4955-8f9b-77f6b4bc53da",
   "metadata": {},
   "outputs": [],
   "source": [
    "import requests\n",
    "\n",
    "# Replace with your actual Blynk API key and virtual pin\n",
    "BLYNK_API_KEY = \"BMHkEagYF22NisUfZ2ee-JrllX4P3w99\"\n",
    "VIRTUAL_PIN = 0\n",
    "\n",
    "# Construct the URL\n",
    "url = f\"https://blr1.blynk.cloud/external/api/get?token={BLYNK_API_KEY}&v{VIRTUAL_PIN}\"\n",
    "\n",
    "# Send the HTTP GET request to retrieve the value\n",
    "response = requests.get(url)\n",
    "\n",
    "# Check if the request was successful (status code 200)\n",
    "if response.status_code == 200:\n",
    "    value = response.text\n",
    "    print(f\"Value read from Blynk app: {value}\")\n",
    "else:\n",
    "    print(f\"Error reading value. Status code: {response.status_code}\")\n"
   ]
  },
  {
   "cell_type": "code",
   "execution_count": null,
   "id": "0fb3c5a6-4724-462a-a6da-1480f9dae741",
   "metadata": {},
   "outputs": [],
   "source": [
    "import requests\n",
    "\n",
    "# Replace with your actual Blynk API key and virtual pin\n",
    "BLYNK_API_KEY = \"BMHkEagYF22NisUfZ2ee-JrllX4P3w99\"\n",
    "VIRTUAL_PIN = 0\n",
    "NEW_VALUE = 40  # Replace with the value you want to set\n",
    "\n",
    "# Construct the URL with the value in the query parameters\n",
    "url = f\"https://blr1.blynk.cloud/external/api/update?token={BLYNK_API_KEY}&v{VIRTUAL_PIN}={NEW_VALUE}\"\n",
    "\n",
    "# Send the HTTP GET request to update the value\n",
    "response = requests.get(url)\n",
    "\n",
    "# Check if the request was successful (status code 200)\n",
    "if response.status_code == 200:\n",
    "    print(f\"Value {NEW_VALUE} updated successfully for pin V{VIRTUAL_PIN}\")\n",
    "else:\n",
    "    print(f\"Error updating value. Status code: {response.status_code}\")\n",
    "    print(response.text)  # Print the response content for further investigation\n",
    "    print(url)\n"
   ]
  },
  {
   "cell_type": "code",
   "execution_count": null,
   "id": "25021efd-ab88-4c6e-af52-79084769a65d",
   "metadata": {},
   "outputs": [],
   "source": [
    "import sklearn\n",
    "\n",
    "print('The scikit-learn version is {}.'.format(sklearn.__version__))"
   ]
  },
  {
   "cell_type": "markdown",
   "id": "54076c2e-1c4c-41a9-abc5-0ebcb9f8f8eb",
   "metadata": {},
   "source": [
    "# Final combined code"
   ]
  },
  {
   "cell_type": "code",
   "execution_count": null,
   "id": "861edd58-e1f1-4ea0-b48c-2193f8484a76",
   "metadata": {},
   "outputs": [],
   "source": [
    "import joblib\n",
    "import pandas as pd\n",
    "import requests\n",
    "import BlynkLib"
   ]
  },
  {
   "cell_type": "code",
   "execution_count": null,
   "id": "9482e8bb-6a69-4c1f-86c0-22992c899bcf",
   "metadata": {},
   "outputs": [],
   "source": [
    "BLYNK_API_KEY = \"_Dc8Y5MGHBEZFUp9A1b4MofKsXmReYoN\"\n",
    "VIRTUAL_PIN0 = 0\n",
    "VIRTUAL_PIN1 = 1\n",
    "VIRTUAL_PIN2 = 2\n",
    "\n",
    "url1 = f\"https://blr1.blynk.cloud/external/api/get?token={BLYNK_API_KEY}&v{VIRTUAL_PIN0}\"\n",
    "url2 = f\"https://blr1.blynk.cloud/external/api/get?token={BLYNK_API_KEY}&v{VIRTUAL_PIN1}\"\n",
    "url3 = f\"https://blr1.blynk.cloud/external/api/get?token={BLYNK_API_KEY}&v{VIRTUAL_PIN2}\"\n",
    "\n",
    "\n",
    "temp = requests.get(url1)\n",
    "humd = requests.get(url2)\n",
    "mois = requests.get(url3)\n",
    "\n",
    "print(temp.text, mois.text, humd.text)"
   ]
  },
  {
   "cell_type": "code",
   "execution_count": null,
   "id": "87b0f6c2-0fac-444f-917c-6e4a12f9c676",
   "metadata": {},
   "outputs": [],
   "source": [
    "data = {\n",
    "    'CropDays': [29.0],\n",
    "    'SoilMoisture': [mois.text],\n",
    "    'temperature': [temp.text],\n",
    "    'Humidity': [humd.text],\n",
    "    'CropType': [7.0]\n",
    "}\n",
    "\n",
    "df = pd.DataFrame(data)\n",
    "df"
   ]
  },
  {
   "cell_type": "code",
   "execution_count": null,
   "id": "5f6f6b64-6ab0-45a4-b8a2-8900eb29968e",
   "metadata": {},
   "outputs": [],
   "source": [
    "dtree = joblib.load('decision_tree.joblib')"
   ]
  },
  {
   "cell_type": "code",
   "execution_count": null,
   "id": "c62f9b6a-6855-4f02-a579-3320c4a7ec94",
   "metadata": {
    "scrolled": true
   },
   "outputs": [],
   "source": [
    "y_pred = dtree.predict(df)"
   ]
  },
  {
   "cell_type": "code",
   "execution_count": null,
   "id": "eeabc610-d224-4546-8c2b-755e86609634",
   "metadata": {},
   "outputs": [],
   "source": [
    "print(y_pred)"
   ]
  },
  {
   "cell_type": "code",
   "execution_count": null,
   "id": "6f21a439-a6b6-4e6d-a12a-130d79aeddc4",
   "metadata": {},
   "outputs": [],
   "source": [
    "VIRTUAL_PIN3 = 3\n",
    "url = f\"https://blr1.blynk.cloud/external/api/update?token={BLYNK_API_KEY}&v{VIRTUAL_PIN3}={y_pred[0]}\"\n",
    "\n",
    "response = requests.get(url)\n",
    "\n",
    "if response.status_code == 200:\n",
    "    print(f\"Value {NEW_VALUE} updated successfully for pin V{VIRTUAL_PIN}\")\n",
    "else:\n",
    "    print(f\"Error updating value. Status code: {response.status_code}\")\n",
    "    print(response.text)  # Print the response content for further investigation\n",
    "    print(url)"
   ]
  },
  {
   "cell_type": "markdown",
   "id": "24e3f1b3-6921-4611-a807-9f7152474590",
   "metadata": {},
   "source": [
    "# Combined code"
   ]
  },
  {
   "cell_type": "code",
   "execution_count": 1,
   "id": "6a27c89e-da29-423b-b08d-97f4174fb12f",
   "metadata": {
    "scrolled": true
   },
   "outputs": [
    {
     "name": "stdout",
     "output_type": "stream",
     "text": [
      "\n",
      "    ___  __          __\n",
      "   / _ )/ /_ _____  / /__\n",
      "  / _  / / // / _ \\/  '_/\n",
      " /____/_/\\_, /_//_/_/\\_\\\n",
      "        /___/ for Python v0.2.0 (Windows)\n",
      "\n",
      "   CropDays SoilMoisture temperature Humidity  CropType\n",
      "0      29.0         1024          33       72       7.0\n",
      "[1]\n",
      "Value 1 updated successfully for pin V3\n",
      "   CropDays SoilMoisture temperature Humidity  CropType\n",
      "0      29.0         1024          33       72       7.0\n",
      "[1]\n",
      "Value 1 updated successfully for pin V3\n",
      "   CropDays SoilMoisture temperature Humidity  CropType\n",
      "0      29.0         1024          33       72       7.0\n",
      "[1]\n",
      "Value 1 updated successfully for pin V3\n",
      "   CropDays SoilMoisture temperature Humidity  CropType\n",
      "0      29.0         1024          33       72       7.0\n",
      "[1]\n",
      "Value 1 updated successfully for pin V3\n"
     ]
    },
    {
     "ename": "KeyboardInterrupt",
     "evalue": "",
     "output_type": "error",
     "traceback": [
      "\u001b[1;31m---------------------------------------------------------------------------\u001b[0m",
      "\u001b[1;31mKeyboardInterrupt\u001b[0m                         Traceback (most recent call last)",
      "Cell \u001b[1;32mIn[1], line 49\u001b[0m\n\u001b[0;32m     47\u001b[0m     \u001b[38;5;28mprint\u001b[39m(response\u001b[38;5;241m.\u001b[39mtext)  \u001b[38;5;66;03m# Print the response content for further investigation\u001b[39;00m\n\u001b[0;32m     48\u001b[0m     \u001b[38;5;28mprint\u001b[39m(url)\n\u001b[1;32m---> 49\u001b[0m \u001b[43mtime\u001b[49m\u001b[38;5;241;43m.\u001b[39;49m\u001b[43msleep\u001b[49m\u001b[43m(\u001b[49m\u001b[38;5;241;43m1\u001b[39;49m\u001b[43m)\u001b[49m\n",
      "\u001b[1;31mKeyboardInterrupt\u001b[0m: "
     ]
    }
   ],
   "source": [
    "import joblib\n",
    "import pandas as pd\n",
    "import requests\n",
    "import BlynkLib\n",
    "import time\n",
    "\n",
    "BLYNK_API_KEY = \"kZe6zuBivQAde3-2rk_2PjyKG0XHvwky\"\n",
    "while(True):\n",
    "    VIRTUAL_PIN0 = 0\n",
    "    VIRTUAL_PIN1 = 1\n",
    "    VIRTUAL_PIN2 = 2\n",
    "    VIRTUAL_PIN3 = 3\n",
    "    \n",
    "    url1 = f\"https://blr1.blynk.cloud/external/api/get?token={BLYNK_API_KEY}&v{VIRTUAL_PIN0}\"\n",
    "    url2 = f\"https://blr1.blynk.cloud/external/api/get?token={BLYNK_API_KEY}&v{VIRTUAL_PIN1}\"\n",
    "    url3 = f\"https://blr1.blynk.cloud/external/api/get?token={BLYNK_API_KEY}&v{VIRTUAL_PIN2}\"\n",
    "    \n",
    "    temp = requests.get(url1)\n",
    "    humd = requests.get(url2)\n",
    "    mois = requests.get(url3)\n",
    "    \n",
    "    data = {\n",
    "        'CropDays': [29.0],\n",
    "        'SoilMoisture': [mois.text],\n",
    "        'temperature': [temp.text],\n",
    "        'Humidity': [humd.text],\n",
    "        'CropType': [7.0]\n",
    "    }\n",
    "    \n",
    "    df = pd.DataFrame(data)\n",
    "    print(df)\n",
    "    \n",
    "    dtree = joblib.load('decision_tree.joblib')\n",
    "    y_pred = dtree.predict(df)\n",
    "    \n",
    "    print(y_pred)\n",
    "    \n",
    "    VIRTUAL_PIN3 = 3\n",
    "    url = f\"https://blr1.blynk.cloud/external/api/update?token={BLYNK_API_KEY}&v{VIRTUAL_PIN3}={y_pred[0]}\"\n",
    "    \n",
    "    response = requests.get(url)\n",
    "    \n",
    "    if response.status_code == 200:\n",
    "        print(f\"Value {y_pred[0]} updated successfully for pin V{VIRTUAL_PIN3}\")\n",
    "    else:\n",
    "        print(f\"Error updating value. Status code: {response.status_code}\")\n",
    "        print(response.text)  # Print the response content for further investigation\n",
    "        print(url)\n",
    "    time.sleep(1)"
   ]
  },
  {
   "cell_type": "code",
   "execution_count": null,
   "id": "5dc4cefc-fb4d-42ee-bb44-40b8d90635ed",
   "metadata": {},
   "outputs": [],
   "source": [
    "import sklearn\n",
    "print(sklearn.__version__)"
   ]
  },
  {
   "cell_type": "code",
   "execution_count": null,
   "id": "f705daed-9d3a-4997-8be9-af610745a18c",
   "metadata": {},
   "outputs": [],
   "source": [
    "import sys\n",
    "print(sys.version)"
   ]
  },
  {
   "cell_type": "code",
   "execution_count": null,
   "id": "c9b727fd-33d1-4fd0-8d60-f2bc04f1f460",
   "metadata": {},
   "outputs": [],
   "source": []
  }
 ],
 "metadata": {
  "kernelspec": {
   "display_name": "Python 3 (ipykernel)",
   "language": "python",
   "name": "python3"
  },
  "language_info": {
   "codemirror_mode": {
    "name": "ipython",
    "version": 3
   },
   "file_extension": ".py",
   "mimetype": "text/x-python",
   "name": "python",
   "nbconvert_exporter": "python",
   "pygments_lexer": "ipython3",
   "version": "3.10.3"
  }
 },
 "nbformat": 4,
 "nbformat_minor": 5
}
